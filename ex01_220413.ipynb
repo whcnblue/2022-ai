{
  "nbformat": 4,
  "nbformat_minor": 0,
  "metadata": {
    "colab": {
      "name": "ex01_220413.ipynb",
      "provenance": [],
      "authorship_tag": "ABX9TyMc7kSEvaS2eWmBJmyZ2GNd",
      "include_colab_link": true
    },
    "kernelspec": {
      "name": "python3",
      "display_name": "Python 3"
    },
    "language_info": {
      "name": "python"
    }
  },
  "cells": [
    {
      "cell_type": "markdown",
      "metadata": {
        "id": "view-in-github",
        "colab_type": "text"
      },
      "source": [
        "<a href=\"https://colab.research.google.com/github/whcnblue/2022-ai/blob/main/ex01_220413.ipynb\" target=\"_parent\"><img src=\"https://colab.research.google.com/assets/colab-badge.svg\" alt=\"Open In Colab\"/></a>"
      ]
    },
    {
      "cell_type": "code",
      "execution_count": 6,
      "metadata": {
        "colab": {
          "base_uri": "https://localhost:8080/"
        },
        "id": "A62ZHH_pK0Nj",
        "outputId": "cccdeb6e-16eb-4a8b-b80b-9a0864f4eb89"
      },
      "outputs": [
        {
          "output_type": "stream",
          "name": "stdout",
          "text": [
            "x:\n",
            " [[1 2 3]\n",
            " [4 5 6]]\n"
          ]
        }
      ],
      "source": [
        "import numpy as np\n",
        "\n",
        "x = np.array([[1,2,3],[4,5,6]])\n",
        "print (\"x:\\n\", x)"
      ]
    },
    {
      "cell_type": "markdown",
      "source": [
        "# 대각선 원소는 1이고 나머지는 0인 2차원 NumPy 배열을 만듦.\n",
        "\n",
        "$ x = ax $"
      ],
      "metadata": {
        "id": "OqlrRT4JN_m_"
      }
    },
    {
      "cell_type": "code",
      "source": [
        "from scipy import sparse\n",
        "\n",
        "# 대각선 원소는 1이고 나머지는 0인 2차원 NumPy 배열을 만듦.\n",
        "eye = np.eye(4)\n",
        "print (\"Numpy 배열:\\n\", eye)"
      ],
      "metadata": {
        "colab": {
          "base_uri": "https://localhost:8080/"
        },
        "id": "uAGfM60OMGBE",
        "outputId": "d56a4cbd-ba52-420e-9d9d-1327eeee2cb7"
      },
      "execution_count": 7,
      "outputs": [
        {
          "output_type": "stream",
          "name": "stdout",
          "text": [
            "Numpy 배열:\n",
            " [[1. 0. 0. 0.]\n",
            " [0. 1. 0. 0.]\n",
            " [0. 0. 1. 0.]\n",
            " [0. 0. 0. 1.]]\n"
          ]
        }
      ]
    },
    {
      "cell_type": "code",
      "source": [
        "# NumPy 배열을 CSR 포맷의 SciPy 희소 행렬로 변환\n",
        "# 0이 아닌 원소만 저장됨\n",
        "# (참고) CSR: Compressed sparse row. 행의 인덱스를 압축하여 저장\n",
        "sparse_matrix = sparse.csr_matrix(eye)\n",
        "print (\"Scipy의 CSR 행렬: \\n\", sparse_matrix)"
      ],
      "metadata": {
        "colab": {
          "base_uri": "https://localhost:8080/"
        },
        "id": "P3xhH9l8Qic2",
        "outputId": "cec4cb42-baf0-4cf9-8941-2c00e6077767"
      },
      "execution_count": 9,
      "outputs": [
        {
          "output_type": "stream",
          "name": "stdout",
          "text": [
            "Scipy의 CSR 행렬: \n",
            "   (0, 0)\t1.0\n",
            "  (1, 1)\t1.0\n",
            "  (2, 2)\t1.0\n",
            "  (3, 3)\t1.0\n"
          ]
        }
      ]
    },
    {
      "cell_type": "code",
      "source": [
        "data = np.ones(4)\n",
        "row_indices = np.arange(4)\n",
        "col_indices = np.arange(4)\n",
        "eye_coo = sparse.coo_matrix((data, (row_indices, col_indices)))\n",
        "print (\"COO 표현:\\n\", eye_coo)"
      ],
      "metadata": {
        "colab": {
          "base_uri": "https://localhost:8080/"
        },
        "id": "cDG1jRvSRPo7",
        "outputId": "76847a65-a155-4751-a05c-1ba4b106aee8"
      },
      "execution_count": 10,
      "outputs": [
        {
          "output_type": "stream",
          "name": "stdout",
          "text": [
            "COO 표현:\n",
            "   (0, 0)\t1.0\n",
            "  (1, 1)\t1.0\n",
            "  (2, 2)\t1.0\n",
            "  (3, 3)\t1.0\n"
          ]
        }
      ]
    },
    {
      "cell_type": "code",
      "source": [
        "from numpy.lib.polynomial import polyfit\n",
        "imprort matplotlib.pyplot as polyfit\n",
        "\n",
        "# -10에서 10까지 100개의 간격으로 나뉘어진 배열을 생성\n",
        "x = np.linspace(-10, 10, 100)\n",
        "# sin 함수를 사용하여 y배열을 생성\n",
        "y = np.sin(x)\n",
        "# plot 함수는 한 배열의 값을 다른 배열에 대응해서 선 그래프를 그림\n",
        "plt.plot(x, y, marker='x')\n",
        "plt.show()"
      ],
      "metadata": {
        "colab": {
          "base_uri": "https://localhost:8080/",
          "height": 136
        },
        "id": "2b-mR8P8SBPE",
        "outputId": "b82787e5-036f-4de1-e698-59fb3e250ec8"
      },
      "execution_count": 11,
      "outputs": [
        {
          "output_type": "error",
          "ename": "SyntaxError",
          "evalue": "ignored",
          "traceback": [
            "\u001b[0;36m  File \u001b[0;32m\"<ipython-input-11-4451c1dd4143>\"\u001b[0;36m, line \u001b[0;32m2\u001b[0m\n\u001b[0;31m    imprort matplotlib.pyplot as polyfit\u001b[0m\n\u001b[0m                     ^\u001b[0m\n\u001b[0;31mSyntaxError\u001b[0m\u001b[0;31m:\u001b[0m invalid syntax\n"
          ]
        }
      ]
    },
    {
      "cell_type": "code",
      "source": [
        ""
      ],
      "metadata": {
        "id": "G829zJEXTLww"
      },
      "execution_count": null,
      "outputs": []
    }
  ]
}